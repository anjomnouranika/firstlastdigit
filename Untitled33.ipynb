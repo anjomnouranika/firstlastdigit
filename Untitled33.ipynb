{
  "nbformat": 4,
  "nbformat_minor": 0,
  "metadata": {
    "colab": {
      "name": "Untitled33.ipynb",
      "provenance": [],
      "collapsed_sections": [],
      "authorship_tag": "ABX9TyOpQZTJiLNpWsSZUBE6XaUD",
      "include_colab_link": true
    },
    "kernelspec": {
      "name": "python3",
      "display_name": "Python 3"
    }
  },
  "cells": [
    {
      "cell_type": "markdown",
      "metadata": {
        "id": "view-in-github",
        "colab_type": "text"
      },
      "source": [
        "<a href=\"https://colab.research.google.com/github/anjomnouranika/firstlastdigit/blob/master/Untitled33.ipynb\" target=\"_parent\"><img src=\"https://colab.research.google.com/assets/colab-badge.svg\" alt=\"Open In Colab\"/></a>"
      ]
    },
    {
      "cell_type": "code",
      "metadata": {
        "id": "GyW6w6vewFlo",
        "colab_type": "code",
        "colab": {
          "base_uri": "https://localhost:8080/",
          "height": 68
        },
        "outputId": "ae93b7f9-ad04-43b9-db1c-d7b791a9c965"
      },
      "source": [
        "number = int(input(\"\"))\n",
        "last = number % 10 \n",
        "while number > 10:\n",
        "  number = number //10\n",
        "print(\"first digit =\",number)\n",
        "print(\"last digit=\",last)"
      ],
      "execution_count": 12,
      "outputs": [
        {
          "output_type": "stream",
          "text": [
            "12\n",
            "first digit = 1\n",
            "last digit= 2\n"
          ],
          "name": "stdout"
        }
      ]
    }
  ]
}